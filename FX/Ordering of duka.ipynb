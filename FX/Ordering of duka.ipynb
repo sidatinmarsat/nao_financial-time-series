{
 "cells": [
  {
   "cell_type": "code",
   "execution_count": 1,
   "metadata": {
    "collapsed": true
   },
   "outputs": [],
   "source": [
    "import numpy as np\n",
    "from generate_data import *"
   ]
  },
  {
   "cell_type": "code",
   "execution_count": 2,
   "metadata": {
    "collapsed": true
   },
   "outputs": [],
   "source": [
    "lol = [[1,5,7,9],[1,3,4,6,7,11],[1,2,3,5,6,7,8]]"
   ]
  },
  {
   "cell_type": "code",
   "execution_count": 3,
   "metadata": {},
   "outputs": [
    {
     "name": "stdout",
     "output_type": "stream",
     "text": [
      "2 [1, 7]\n",
      "2 4 2\n",
      "4 6 2\n",
      "5 7 2\n"
     ]
    },
    {
     "data": {
      "text/plain": [
       "[[1, 3], [1, 2, 3, 5], [1, 2, 3, 4, 6]]"
      ]
     },
     "execution_count": 3,
     "metadata": {},
     "output_type": "execute_result"
    }
   ],
   "source": [
    "get_uncommon_index_from_ordered_list_of_lists(lol)"
   ]
  },
  {
   "cell_type": "code",
   "execution_count": 21,
   "metadata": {
    "collapsed": true
   },
   "outputs": [],
   "source": [
    "def readduka(filename, resolution=60):\n",
    "    raw = np.array([i.rstrip().split(\",\") for i in open(filename, \"r\").readlines()])\n",
    "    data = raw[:,1:].astype(float)\n",
    "    \n",
    "    # base time:\n",
    "    base = datetime(2000, 1, 1)\n",
    "    temp = [gettime(i)-base for i in raw[:, 0]]\n",
    "    time = np.array([i.days*24*resolution+i.seconds/60/(60/resolution) for i in temp])\n",
    "    day = np.array([i.seconds/60/60/4 for i in temp])\n",
    "    return data, time, day, raw[:, 0]"
   ]
  },
  {
   "cell_type": "code",
   "execution_count": 22,
   "metadata": {},
   "outputs": [],
   "source": [
    "fxnames = [\"USDJPY\", \"USDCHF\", \"USDCAD\", \"NZDUSD\", \"GBPUSD\", \"EURUSD\", \"AUDUSD\"]\n",
    "prefix = \"./\"\n",
    "suffix = \"-2006_01_01-2009_12_31.csv\"\n",
    "filenames = [prefix+m+suffix for m in fxnames]"
   ]
  },
  {
   "cell_type": "code",
   "execution_count": 23,
   "metadata": {},
   "outputs": [],
   "source": [
    "## read in data\n",
    "resolution = 12\n",
    "data = {}\n",
    "times = {}\n",
    "hours = {}\n",
    "raws = {}\n",
    "count = 0\n",
    "for filename in filenames:\n",
    "    tempdata, time, hour, raw = readduka(filename, resolution)\n",
    "\n",
    "    # Invert if USD comes first\n",
    "    if fxnames[count][:3] == \"USD\": \n",
    "        tempdata = 1.0/tempdata\n",
    "        temp = tempdata[:, 2]\n",
    "        tempdata[:, 2] = tempdata[:, 3]\n",
    "        tempdata[:, 3] = temp\n",
    "\n",
    "    data[fxnames[count]] = tempdata\n",
    "    times[fxnames[count]] = time\n",
    "    hours[fxnames[count]] = hour\n",
    "    raws[fxnames[count]] = raw\n",
    "    count+=1"
   ]
  },
  {
   "cell_type": "code",
   "execution_count": 36,
   "metadata": {},
   "outputs": [],
   "source": [
    "def get_uncommon_index_from_ordered_list_of_lists(listoflists, debug=0):\n",
    "    lol = listoflists\n",
    "    \n",
    "    # this potentiall takes a lot of time\n",
    "    curset = set(lol[0])\n",
    "    for i in lol[1:]:\n",
    "        curset = curset.intersection(i)\n",
    "        \n",
    "    common = sorted(list(curset))\n",
    "    ret = []\n",
    "    for l in lol:\n",
    "        index = 0\n",
    "        skip = []\n",
    "        i = 0\n",
    "        for i in range(len(l)):\n",
    "            if index < len(common):\n",
    "                if l[i] < common[index]:\n",
    "                    skip.append(i)\n",
    "                else:\n",
    "                    while index < len(common) and common[index] <= l[i]:\n",
    "                        index += 1\n",
    "            else:\n",
    "                skip.append(i)\n",
    "        ret.append(skip)\n",
    "        assert len(skip)+len(common)==len(l)\n",
    "    return ret"
   ]
  },
  {
   "cell_type": "code",
   "execution_count": 67,
   "metadata": {},
   "outputs": [
    {
     "data": {
      "text/plain": [
       "[array([736412, 736413, 736414, 736415, 736680, 736681, 736682, 736683,\n",
       "        736684, 736685, 736686, 736687, 736688, 736689, 736690, 736691,\n",
       "        736692, 736693, 736694, 736695, 736696, 736697, 736698, 736699,\n",
       "        736700, 736701, 736702, 736703, 736416, 736417, 736418, 736419,\n",
       "        736420, 736421, 736422]),\n",
       " array([736412, 736413, 736414, 736415, 736680, 736681, 736682, 736683,\n",
       "        736684, 736685, 736686, 736687, 736688, 736689, 736690, 736691,\n",
       "        736692, 736693, 736694, 736695, 736696, 736697, 736698, 736699,\n",
       "        736700, 736701, 736702, 736703, 736416, 736417, 736418, 736419,\n",
       "        736420, 736421, 736422]),\n",
       " array([736412, 736413, 736414, 736415, 736680, 736681, 736682, 736683,\n",
       "        736684, 736685, 736686, 736687, 736688, 736689, 736690, 736691,\n",
       "        736692, 736693, 736694, 736695, 736696, 736697, 736698, 736699,\n",
       "        736700, 736701, 736702, 736703, 736416, 736417, 736418, 736419,\n",
       "        736420, 736421, 736422])]"
      ]
     },
     "execution_count": 67,
     "metadata": {},
     "output_type": "execute_result"
    }
   ],
   "source": [
    "[times[fn][74900:74935] for fn in fxnames[:3]]"
   ]
  },
  {
   "cell_type": "code",
   "execution_count": 58,
   "metadata": {},
   "outputs": [
    {
     "ename": "AssertionError",
     "evalue": "",
     "output_type": "error",
     "traceback": [
      "\u001b[0;31m---------------------------------------------------------------------------\u001b[0m",
      "\u001b[0;31mAssertionError\u001b[0m                            Traceback (most recent call last)",
      "\u001b[0;32m<ipython-input-58-aaccfd80eac9>\u001b[0m in \u001b[0;36m<module>\u001b[0;34m()\u001b[0m\n\u001b[0;32m----> 1\u001b[0;31m \u001b[0mget_uncommon_index_from_ordered_list_of_lists\u001b[0m\u001b[0;34m(\u001b[0m\u001b[0;34m[\u001b[0m\u001b[0mtimes\u001b[0m\u001b[0;34m[\u001b[0m\u001b[0mfn\u001b[0m\u001b[0;34m]\u001b[0m\u001b[0;34m[\u001b[0m\u001b[0;36m74900\u001b[0m\u001b[0;34m:\u001b[0m\u001b[0;36m75000\u001b[0m\u001b[0;34m]\u001b[0m \u001b[0;32mfor\u001b[0m \u001b[0mfn\u001b[0m \u001b[0;32min\u001b[0m \u001b[0mfxnames\u001b[0m\u001b[0;34m[\u001b[0m\u001b[0;34m:\u001b[0m\u001b[0;36m3\u001b[0m\u001b[0;34m]\u001b[0m\u001b[0;34m]\u001b[0m\u001b[0;34m)\u001b[0m\u001b[0;34m\u001b[0m\u001b[0m\n\u001b[0m",
      "\u001b[0;32m<ipython-input-36-d9550f893b8f>\u001b[0m in \u001b[0;36mget_uncommon_index_from_ordered_list_of_lists\u001b[0;34m(listoflists, debug)\u001b[0m\n\u001b[1;32m     23\u001b[0m                 \u001b[0mskip\u001b[0m\u001b[0;34m.\u001b[0m\u001b[0mappend\u001b[0m\u001b[0;34m(\u001b[0m\u001b[0mi\u001b[0m\u001b[0;34m)\u001b[0m\u001b[0;34m\u001b[0m\u001b[0m\n\u001b[1;32m     24\u001b[0m         \u001b[0mret\u001b[0m\u001b[0;34m.\u001b[0m\u001b[0mappend\u001b[0m\u001b[0;34m(\u001b[0m\u001b[0mskip\u001b[0m\u001b[0;34m)\u001b[0m\u001b[0;34m\u001b[0m\u001b[0m\n\u001b[0;32m---> 25\u001b[0;31m         \u001b[0;32massert\u001b[0m \u001b[0mlen\u001b[0m\u001b[0;34m(\u001b[0m\u001b[0mskip\u001b[0m\u001b[0;34m)\u001b[0m\u001b[0;34m+\u001b[0m\u001b[0mlen\u001b[0m\u001b[0;34m(\u001b[0m\u001b[0mcommon\u001b[0m\u001b[0;34m)\u001b[0m\u001b[0;34m==\u001b[0m\u001b[0mlen\u001b[0m\u001b[0;34m(\u001b[0m\u001b[0ml\u001b[0m\u001b[0;34m)\u001b[0m\u001b[0;34m\u001b[0m\u001b[0m\n\u001b[0m\u001b[1;32m     26\u001b[0m     \u001b[0;32mreturn\u001b[0m \u001b[0mret\u001b[0m\u001b[0;34m\u001b[0m\u001b[0m\n",
      "\u001b[0;31mAssertionError\u001b[0m: "
     ]
    }
   ],
   "source": [
    "get_uncommon_index_from_ordered_list_of_lists([times[fn][74900:75000] for fn in fxnames[:3]])"
   ]
  },
  {
   "cell_type": "code",
   "execution_count": null,
   "metadata": {
    "collapsed": true
   },
   "outputs": [],
   "source": []
  },
  {
   "cell_type": "code",
   "execution_count": null,
   "metadata": {
    "collapsed": true
   },
   "outputs": [],
   "source": []
  }
 ],
 "metadata": {
  "kernelspec": {
   "display_name": "Python 2",
   "language": "python",
   "name": "python2"
  },
  "language_info": {
   "codemirror_mode": {
    "name": "ipython",
    "version": 2
   },
   "file_extension": ".py",
   "mimetype": "text/x-python",
   "name": "python",
   "nbconvert_exporter": "python",
   "pygments_lexer": "ipython2",
   "version": "2.7.13"
  }
 },
 "nbformat": 4,
 "nbformat_minor": 2
}
