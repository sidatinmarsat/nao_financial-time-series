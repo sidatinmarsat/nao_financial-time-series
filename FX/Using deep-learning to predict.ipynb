{
 "cells": [
  {
   "cell_type": "code",
   "execution_count": 4,
   "metadata": {},
   "outputs": [
    {
     "name": "stderr",
     "output_type": "stream",
     "text": [
      "Using TensorFlow backend.\n"
     ]
    }
   ],
   "source": [
    "import sys\n",
    "import numpy as np\n",
    "\n",
    "#import matplotlib.pyplot as plt\n",
    "#import seaborn as sns\n",
    "\n",
    "from sklearn.preprocessing import MinMaxScaler\n",
    "from sklearn.decomposition import PCA\n",
    "import sklearn.linear_model\n",
    "import sklearn.metrics\n",
    "\n",
    "from scipy.stats import spearmanr as cor\n",
    "\n",
    "from keras.models import Sequential\n",
    "from keras.layers import Flatten, Dense, Dropout, Merge\n",
    "from keras.layers import Reshape\n",
    "from keras.layers.core import Activation\n",
    "from keras.layers.normalization import BatchNormalization\n",
    "from keras.layers.convolutional import UpSampling2D\n",
    "from keras.layers.convolutional import Conv2D, MaxPooling2D\n",
    "from keras.layers.core import Flatten\n",
    "from keras.optimizers import SGD\n",
    "from keras import regularizers\n",
    "from keras.callbacks import ModelCheckpoint\n",
    "from keras.layers import Concatenate\n",
    "from keras.models import load_model\n",
    "from keras.layers import Dense, Activation\n",
    "from keras.layers import LSTM\n",
    "from sklearn import preprocessing"
   ]
  },
  {
   "cell_type": "code",
   "execution_count": 35,
   "metadata": {},
   "outputs": [],
   "source": [
    "def makeDNN(in_size, dropout=0.2):\n",
    "    l2_lam = 5e-07 \n",
    "    l1_lam = 1e-08 \n",
    "    model = Sequential()\n",
    "    model.add(Flatten(input_shape=(in_size)))\n",
    "    model.add(Dense(150, kernel_regularizer=regularizers.l1(l1_lam)))\n",
    "    model.add(Activation(\"relu\"))\n",
    "    model.add(Dropout(dropout))\n",
    "    model.add(Dense(100, kernel_regularizer=regularizers.l1(l1_lam))) \n",
    "    model.add(Activation(\"relu\"))\n",
    "    model.add(Dropout(dropout))\n",
    "    model.add(Dense(50, kernel_regularizer=regularizers.l1(l1_lam))) \n",
    "    model.add(Activation(\"relu\"))\n",
    "    model.add(Dense(3, kernel_regularizer=regularizers.l1(l1_lam)))\n",
    "    model.add(Activation(\"softmax\"))\n",
    "    model.compile(loss='categorical_crossentropy', optimizer='adam', metrics=['accuracy'])\n",
    "    return model\n",
    "\n",
    "def makeCNN(in_size, dropout=0.2):\n",
    "    nkernels = [80,120,160]\n",
    "    l2_lam = 5e-07 \n",
    "    l1_lam = 1e-08 \n",
    "    # isize = (1,300,35*3)\n",
    "    model = Sequential()\n",
    "    model.add(Conv2D(nkernels[0], kernel_size=(1,8), strides=(1,1), padding='same', input_shape=in_size, kernel_regularizer=regularizers.l2(l2_lam)))\n",
    "    model.add(BatchNormalization())\n",
    "    model.add(Activation('relu'))\n",
    "    model.add(MaxPooling2D(pool_size=(1,4), strides=(1,4)))\n",
    "    model.add(Dropout(0.2))\n",
    "\n",
    "    model.add(Conv2D(nkernels[1], kernel_size=(1,8), strides=(1,1), padding='same', kernel_regularizer=regularizers.l2(l2_lam)))\n",
    "    model.add(BatchNormalization())\n",
    "    model.add(Activation('relu'))\n",
    "    model.add(MaxPooling2D(pool_size=(1,4), strides=(1,4)))\n",
    "    model.add(Dropout(0.2))\n",
    "\n",
    "    model.add(Conv2D(nkernels[2], kernel_size=(1,8), strides=(1,1), padding='same', kernel_regularizer=regularizers.l2(l2_lam)))\n",
    "    model.add(BatchNormalization())\n",
    "    model.add(Activation('relu'))\n",
    "    model.add(Dropout(0.5))\n",
    "\n",
    "    model.add(Flatten())\n",
    "    model.add(Dense(50, kernel_regularizer=regularizers.l1(l1_lam)))\n",
    "    model.add(Activation('relu'))\n",
    "    model.add(Dense(3, kernel_regularizer=regularizers.l1(l1_lam)))\n",
    "    model.add(Activation(\"softmax\"))\n",
    "    model.compile(loss='categorical_crossentropy', optimizer='adam', metrics=['accuracy'])\n",
    "    return model"
   ]
  },
  {
   "cell_type": "code",
   "execution_count": 29,
   "metadata": {},
   "outputs": [],
   "source": [
    "suffix = \"-2017_01_01-2017_07_03.npy\"\n",
    "X1 = np.load(\"X\"+suffix)\n",
    "X2 = np.load(\"X2\"+suffix)\n",
    "X3 = np.load(\"X3\"+suffix)\n",
    "Y = np.load(\"Y-2017_01_01-2017_07_03.npy\")"
   ]
  },
  {
   "cell_type": "code",
   "execution_count": 32,
   "metadata": {},
   "outputs": [
    {
     "name": "stdout",
     "output_type": "stream",
     "text": [
      "Epoch 1/10\n",
      "128/128 [==============================] - 2s - loss: 2.0751 - acc: 0.4922       \n",
      "Epoch 2/10\n",
      "128/128 [==============================] - 0s - loss: 1.4266 - acc: 0.7891     \n",
      "Epoch 3/10\n",
      "128/128 [==============================] - 0s - loss: 1.6905 - acc: 0.7109     \n",
      "Epoch 4/10\n",
      "128/128 [==============================] - 0s - loss: 1.5339 - acc: 0.7969     \n",
      "Epoch 5/10\n",
      "128/128 [==============================] - 0s - loss: 1.7982 - acc: 0.7344     \n",
      "Epoch 6/10\n",
      "128/128 [==============================] - 0s - loss: 1.3683 - acc: 0.7969     \n",
      "Epoch 7/10\n",
      "128/128 [==============================] - 0s - loss: 1.2017 - acc: 0.7500     \n",
      "Epoch 8/10\n",
      "128/128 [==============================] - 0s - loss: 1.9198 - acc: 0.7109     \n",
      "Epoch 9/10\n",
      "128/128 [==============================] - 0s - loss: 1.3819 - acc: 0.7812     \n",
      "Epoch 10/10\n",
      "128/128 [==============================] - 0s - loss: 1.1051 - acc: 0.7344     \n"
     ]
    },
    {
     "data": {
      "text/plain": [
       "<keras.callbacks.History at 0x13bce9810>"
      ]
     },
     "execution_count": 32,
     "metadata": {},
     "output_type": "execute_result"
    }
   ],
   "source": [
    "X = np.concatenate([X1,X2,X3], axis=1)\n",
    "model1 = makeDNN(X.shape[1:])\n",
    "model1.fit(X[:128], Y[:128],\n",
    "                  epochs=ep, \n",
    "                  batch_size=64,\n",
    "                  callbacks=callbacks_list,\n",
    "                  validation_split=0.2)"
   ]
  },
  {
   "cell_type": "code",
   "execution_count": 36,
   "metadata": {},
   "outputs": [
    {
     "name": "stdout",
     "output_type": "stream",
     "text": [
      "Epoch 1/10\n",
      "128/128 [==============================] - 4s - loss: 1.0196 - acc: 0.6016     \n",
      "Epoch 2/10\n",
      "128/128 [==============================] - 2s - loss: 0.6018 - acc: 0.8281     \n",
      "Epoch 3/10\n",
      "128/128 [==============================] - 2s - loss: 0.3999 - acc: 0.8359     \n",
      "Epoch 4/10\n",
      "128/128 [==============================] - 2s - loss: 0.3505 - acc: 0.8359     \n",
      "Epoch 5/10\n",
      "128/128 [==============================] - 2s - loss: 0.4063 - acc: 0.8281     \n",
      "Epoch 6/10\n",
      "128/128 [==============================] - 2s - loss: 0.2852 - acc: 0.8750     \n",
      "Epoch 7/10\n",
      "128/128 [==============================] - 2s - loss: 0.3203 - acc: 0.8672     \n",
      "Epoch 8/10\n",
      "128/128 [==============================] - 2s - loss: 0.2563 - acc: 0.9062     \n",
      "Epoch 9/10\n",
      "128/128 [==============================] - 2s - loss: 0.1773 - acc: 0.9453     \n",
      "Epoch 10/10\n",
      "128/128 [==============================] - 2s - loss: 0.1669 - acc: 0.9453     \n"
     ]
    },
    {
     "data": {
      "text/plain": [
       "<keras.callbacks.History at 0x145ffefd0>"
      ]
     },
     "execution_count": 36,
     "metadata": {},
     "output_type": "execute_result"
    }
   ],
   "source": [
    "X = np.concatenate([X1,X2,X3], axis=1)\n",
    "X = np.expand_dims(X, axis=1)\n",
    "model2 = makeCNN(X.shape[1:])\n",
    "model2.fit(X[:128], Y[:128])"
   ]
  },
  {
   "cell_type": "code",
   "execution_count": null,
   "metadata": {
    "collapsed": true
   },
   "outputs": [],
   "source": []
  }
 ],
 "metadata": {
  "kernelspec": {
   "display_name": "Python 2",
   "language": "python",
   "name": "python2"
  },
  "language_info": {
   "codemirror_mode": {
    "name": "ipython",
    "version": 2
   },
   "file_extension": ".py",
   "mimetype": "text/x-python",
   "name": "python",
   "nbconvert_exporter": "python",
   "pygments_lexer": "ipython2",
   "version": "2.7.13"
  }
 },
 "nbformat": 4,
 "nbformat_minor": 2
}
